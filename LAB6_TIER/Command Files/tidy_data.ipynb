{
 "cells": [
  {
   "cell_type": "markdown",
   "metadata": {},
   "source": [
    "## **TIER Protocol**\n",
    "##### Tomasz Bronikowski\n",
    " "
   ]
  },
  {
   "cell_type": "code",
   "execution_count": 1,
   "metadata": {},
   "outputs": [
    {
     "data": {
      "text/html": [
       "<div>\n",
       "<style scoped>\n",
       "    .dataframe tbody tr th:only-of-type {\n",
       "        vertical-align: middle;\n",
       "    }\n",
       "\n",
       "    .dataframe tbody tr th {\n",
       "        vertical-align: top;\n",
       "    }\n",
       "\n",
       "    .dataframe thead th {\n",
       "        text-align: right;\n",
       "    }\n",
       "</style>\n",
       "<table border=\"1\" class=\"dataframe\">\n",
       "  <thead>\n",
       "    <tr style=\"text-align: right;\">\n",
       "      <th></th>\n",
       "      <th>Unnamed: 0</th>\n",
       "      <th>Dni od zakupu</th>\n",
       "      <th>Marka</th>\n",
       "      <th>Wiek kupującego</th>\n",
       "      <th>Płeć kupującego</th>\n",
       "      <th>Ocena</th>\n",
       "    </tr>\n",
       "  </thead>\n",
       "  <tbody>\n",
       "    <tr>\n",
       "      <th>0</th>\n",
       "      <td>0</td>\n",
       "      <td>13</td>\n",
       "      <td>Electrolux</td>\n",
       "      <td>38.0</td>\n",
       "      <td>K</td>\n",
       "      <td>2.5</td>\n",
       "    </tr>\n",
       "    <tr>\n",
       "      <th>1</th>\n",
       "      <td>1</td>\n",
       "      <td>6</td>\n",
       "      <td>Beko</td>\n",
       "      <td>30.0</td>\n",
       "      <td>K</td>\n",
       "      <td>2.0</td>\n",
       "    </tr>\n",
       "    <tr>\n",
       "      <th>2</th>\n",
       "      <td>2</td>\n",
       "      <td>6</td>\n",
       "      <td>Dyson</td>\n",
       "      <td>43.0</td>\n",
       "      <td>K</td>\n",
       "      <td>2.5</td>\n",
       "    </tr>\n",
       "    <tr>\n",
       "      <th>3</th>\n",
       "      <td>3</td>\n",
       "      <td>5</td>\n",
       "      <td>Beko</td>\n",
       "      <td>NaN</td>\n",
       "      <td>M</td>\n",
       "      <td>3.0</td>\n",
       "    </tr>\n",
       "    <tr>\n",
       "      <th>4</th>\n",
       "      <td>4</td>\n",
       "      <td>10</td>\n",
       "      <td>Dyson</td>\n",
       "      <td>42.0</td>\n",
       "      <td>K</td>\n",
       "      <td>3.5</td>\n",
       "    </tr>\n",
       "    <tr>\n",
       "      <th>...</th>\n",
       "      <td>...</td>\n",
       "      <td>...</td>\n",
       "      <td>...</td>\n",
       "      <td>...</td>\n",
       "      <td>...</td>\n",
       "      <td>...</td>\n",
       "    </tr>\n",
       "    <tr>\n",
       "      <th>453</th>\n",
       "      <td>453</td>\n",
       "      <td>4</td>\n",
       "      <td>Dyson</td>\n",
       "      <td>26.0</td>\n",
       "      <td>M</td>\n",
       "      <td>2.0</td>\n",
       "    </tr>\n",
       "    <tr>\n",
       "      <th>454</th>\n",
       "      <td>454</td>\n",
       "      <td>6</td>\n",
       "      <td>Electrolux</td>\n",
       "      <td>30.0</td>\n",
       "      <td>M</td>\n",
       "      <td>3.0</td>\n",
       "    </tr>\n",
       "    <tr>\n",
       "      <th>455</th>\n",
       "      <td>455</td>\n",
       "      <td>9</td>\n",
       "      <td>Samsung</td>\n",
       "      <td>31.0</td>\n",
       "      <td>M</td>\n",
       "      <td>0.5</td>\n",
       "    </tr>\n",
       "    <tr>\n",
       "      <th>456</th>\n",
       "      <td>456</td>\n",
       "      <td>7</td>\n",
       "      <td>Dyson</td>\n",
       "      <td>30.0</td>\n",
       "      <td>K</td>\n",
       "      <td>2.0</td>\n",
       "    </tr>\n",
       "    <tr>\n",
       "      <th>457</th>\n",
       "      <td>457</td>\n",
       "      <td>13</td>\n",
       "      <td>Samsung</td>\n",
       "      <td>38.0</td>\n",
       "      <td>K</td>\n",
       "      <td>4.0</td>\n",
       "    </tr>\n",
       "  </tbody>\n",
       "</table>\n",
       "<p>458 rows × 6 columns</p>\n",
       "</div>"
      ],
      "text/plain": [
       "     Unnamed: 0  Dni od zakupu       Marka  Wiek kupującego Płeć kupującego  \\\n",
       "0             0             13  Electrolux             38.0               K   \n",
       "1             1              6        Beko             30.0               K   \n",
       "2             2              6       Dyson             43.0               K   \n",
       "3             3              5        Beko              NaN               M   \n",
       "4             4             10       Dyson             42.0               K   \n",
       "..          ...            ...         ...              ...             ...   \n",
       "453         453              4       Dyson             26.0               M   \n",
       "454         454              6  Electrolux             30.0               M   \n",
       "455         455              9     Samsung             31.0               M   \n",
       "456         456              7       Dyson             30.0               K   \n",
       "457         457             13     Samsung             38.0               K   \n",
       "\n",
       "     Ocena  \n",
       "0      2.5  \n",
       "1      2.0  \n",
       "2      2.5  \n",
       "3      3.0  \n",
       "4      3.5  \n",
       "..     ...  \n",
       "453    2.0  \n",
       "454    3.0  \n",
       "455    0.5  \n",
       "456    2.0  \n",
       "457    4.0  \n",
       "\n",
       "[458 rows x 6 columns]"
      ]
     },
     "execution_count": 1,
     "metadata": {},
     "output_type": "execute_result"
    }
   ],
   "source": [
    "import pandas as pd\n",
    "import numpy as np\n",
    "import matplotlib.pyplot as plt\n",
    "\n",
    "df = pd.read_csv(\"../Original Data/1_KUJAWSKO-POMORSKIE.csv\")\n",
    "df\n"
   ]
  },
  {
   "cell_type": "markdown",
   "metadata": {},
   "source": [
    "**Usunięcie NaN**"
   ]
  },
  {
   "cell_type": "code",
   "execution_count": 2,
   "metadata": {},
   "outputs": [
    {
     "data": {
      "text/html": [
       "<div>\n",
       "<style scoped>\n",
       "    .dataframe tbody tr th:only-of-type {\n",
       "        vertical-align: middle;\n",
       "    }\n",
       "\n",
       "    .dataframe tbody tr th {\n",
       "        vertical-align: top;\n",
       "    }\n",
       "\n",
       "    .dataframe thead th {\n",
       "        text-align: right;\n",
       "    }\n",
       "</style>\n",
       "<table border=\"1\" class=\"dataframe\">\n",
       "  <thead>\n",
       "    <tr style=\"text-align: right;\">\n",
       "      <th></th>\n",
       "      <th>Dni od zakupu</th>\n",
       "      <th>Marka</th>\n",
       "      <th>Wiek kupującego</th>\n",
       "      <th>Płeć kupującego</th>\n",
       "      <th>Ocena</th>\n",
       "    </tr>\n",
       "  </thead>\n",
       "  <tbody>\n",
       "    <tr>\n",
       "      <th>0</th>\n",
       "      <td>13</td>\n",
       "      <td>Electrolux</td>\n",
       "      <td>38.0</td>\n",
       "      <td>K</td>\n",
       "      <td>2.5</td>\n",
       "    </tr>\n",
       "    <tr>\n",
       "      <th>1</th>\n",
       "      <td>6</td>\n",
       "      <td>Beko</td>\n",
       "      <td>30.0</td>\n",
       "      <td>K</td>\n",
       "      <td>2.0</td>\n",
       "    </tr>\n",
       "    <tr>\n",
       "      <th>2</th>\n",
       "      <td>6</td>\n",
       "      <td>Dyson</td>\n",
       "      <td>43.0</td>\n",
       "      <td>K</td>\n",
       "      <td>2.5</td>\n",
       "    </tr>\n",
       "    <tr>\n",
       "      <th>4</th>\n",
       "      <td>10</td>\n",
       "      <td>Dyson</td>\n",
       "      <td>42.0</td>\n",
       "      <td>K</td>\n",
       "      <td>3.5</td>\n",
       "    </tr>\n",
       "    <tr>\n",
       "      <th>5</th>\n",
       "      <td>9</td>\n",
       "      <td>Dyson</td>\n",
       "      <td>49.0</td>\n",
       "      <td>K</td>\n",
       "      <td>1.0</td>\n",
       "    </tr>\n",
       "    <tr>\n",
       "      <th>...</th>\n",
       "      <td>...</td>\n",
       "      <td>...</td>\n",
       "      <td>...</td>\n",
       "      <td>...</td>\n",
       "      <td>...</td>\n",
       "    </tr>\n",
       "    <tr>\n",
       "      <th>453</th>\n",
       "      <td>4</td>\n",
       "      <td>Dyson</td>\n",
       "      <td>26.0</td>\n",
       "      <td>M</td>\n",
       "      <td>2.0</td>\n",
       "    </tr>\n",
       "    <tr>\n",
       "      <th>454</th>\n",
       "      <td>6</td>\n",
       "      <td>Electrolux</td>\n",
       "      <td>30.0</td>\n",
       "      <td>M</td>\n",
       "      <td>3.0</td>\n",
       "    </tr>\n",
       "    <tr>\n",
       "      <th>455</th>\n",
       "      <td>9</td>\n",
       "      <td>Samsung</td>\n",
       "      <td>31.0</td>\n",
       "      <td>M</td>\n",
       "      <td>0.5</td>\n",
       "    </tr>\n",
       "    <tr>\n",
       "      <th>456</th>\n",
       "      <td>7</td>\n",
       "      <td>Dyson</td>\n",
       "      <td>30.0</td>\n",
       "      <td>K</td>\n",
       "      <td>2.0</td>\n",
       "    </tr>\n",
       "    <tr>\n",
       "      <th>457</th>\n",
       "      <td>13</td>\n",
       "      <td>Samsung</td>\n",
       "      <td>38.0</td>\n",
       "      <td>K</td>\n",
       "      <td>4.0</td>\n",
       "    </tr>\n",
       "  </tbody>\n",
       "</table>\n",
       "<p>413 rows × 5 columns</p>\n",
       "</div>"
      ],
      "text/plain": [
       "     Dni od zakupu       Marka  Wiek kupującego Płeć kupującego  Ocena\n",
       "0               13  Electrolux             38.0               K    2.5\n",
       "1                6        Beko             30.0               K    2.0\n",
       "2                6       Dyson             43.0               K    2.5\n",
       "4               10       Dyson             42.0               K    3.5\n",
       "5                9       Dyson             49.0               K    1.0\n",
       "..             ...         ...              ...             ...    ...\n",
       "453              4       Dyson             26.0               M    2.0\n",
       "454              6  Electrolux             30.0               M    3.0\n",
       "455              9     Samsung             31.0               M    0.5\n",
       "456              7       Dyson             30.0               K    2.0\n",
       "457             13     Samsung             38.0               K    4.0\n",
       "\n",
       "[413 rows x 5 columns]"
      ]
     },
     "execution_count": 2,
     "metadata": {},
     "output_type": "execute_result"
    }
   ],
   "source": [
    "df = df.dropna()\n",
    "df = df.drop(columns=['Unnamed: 0'])\n",
    "df"
   ]
  },
  {
   "cell_type": "markdown",
   "metadata": {},
   "source": [
    "**Typy danych**"
   ]
  },
  {
   "cell_type": "code",
   "execution_count": 3,
   "metadata": {},
   "outputs": [
    {
     "name": "stdout",
     "output_type": "stream",
     "text": [
      "<class 'pandas.core.frame.DataFrame'>\n",
      "Int64Index: 413 entries, 0 to 457\n",
      "Data columns (total 5 columns):\n",
      " #   Column           Non-Null Count  Dtype  \n",
      "---  ------           --------------  -----  \n",
      " 0   Dni od zakupu    413 non-null    int64  \n",
      " 1   Marka            413 non-null    object \n",
      " 2   Wiek kupującego  413 non-null    float64\n",
      " 3   Płeć kupującego  413 non-null    object \n",
      " 4   Ocena            413 non-null    float64\n",
      "dtypes: float64(2), int64(1), object(2)\n",
      "memory usage: 19.4+ KB\n"
     ]
    }
   ],
   "source": [
    "df.info()"
   ]
  },
  {
   "cell_type": "code",
   "execution_count": 4,
   "metadata": {},
   "outputs": [],
   "source": [
    "df.describe()\n",
    "df.to_csv('../Analysis Data/1_KUJAWSKO-POMORSKIE_tidy.csv')"
   ]
  },
  {
   "cell_type": "markdown",
   "metadata": {},
   "source": [
    "**Zamiana formatu na int**"
   ]
  },
  {
   "cell_type": "code",
   "execution_count": 5,
   "metadata": {},
   "outputs": [
    {
     "data": {
      "image/png": "[encoded data removed]",
      "text/plain": [
       "<Figure size 432x288 with 1 Axes>"
      ]
     },
     "metadata": {
      "needs_background": "light"
     },
     "output_type": "display_data"
    }
   ],
   "source": [
    "df_rate = df.filter(['Ocena']).groupby('Ocena').size()\n",
    "plot = df_rate.plot.bar(title='Oceny wystawione przez klientów',rot=0, xlabel='Ocena', ylabel='Liczba', grid=False,color=['red','red','red', 'orange','orange','orange','orange','orange', 'green','green','green'])\n",
    " \n",
    "fig = plot.get_figure()\n",
    "fig.savefig('../Analysis Data/Oceny_wykres.png')"
   ]
  },
  {
   "cell_type": "code",
   "execution_count": 6,
   "metadata": {},
   "outputs": [
    {
     "data": {
      "image/png": "[encoded data removed]",
      "text/plain": [
       "<Figure size 432x288 with 1 Axes>"
      ]
     },
     "metadata": {
      "needs_background": "light"
     },
     "output_type": "display_data"
    }
   ],
   "source": [
    "female_count = df['Płeć kupującego'].value_counts()['K']\n",
    "male_count = df['Płeć kupującego'].value_counts()['M']\n",
    "unknown_count = df['Płeć kupującego'].value_counts()['bd.']\n",
    "\n",
    "df_plec = pd.DataFrame({'Płeć': ['Kobiety', 'Mężczyźni', 'Nieznana'],'Ilość': [female_count, male_count, unknown_count]})\n",
    "\n",
    "plot = df_plec.plot.bar(x='Płeć', y='Ilość', rot=0, grid=False, title='Wykres płci klientów',legend = False,color=['red', 'blue', 'black'],xlabel ='')\n",
    "\n",
    "fig = plot.get_figure()\n",
    "fig.savefig('../Analysis Data/Plec_wykres.png')"
   ]
  },
  {
   "cell_type": "code",
   "execution_count": 7,
   "metadata": {},
   "outputs": [
    {
     "data": {
      "image/png": "[encoded data removed]",
      "text/plain": [
       "<Figure size 432x288 with 1 Axes>"
      ]
     },
     "metadata": {
      "needs_background": "light"
     },
     "output_type": "display_data"
    }
   ],
   "source": [
    "plot = df.pivot_table('Ocena', index='Marka', columns='Płeć kupującego', aggfunc=\"mean\").plot.bar(ylabel='Średnia ocena',color=['red', 'blue', 'black'])\n",
    "fig = plot.get_figure()\n",
    "fig.savefig('../Analysis Data/Srednia_ocena_wedlug_plci_i_marki_wykres.png')"
   ]
  }
 ],
 "metadata": {
  "kernelspec": {
   "display_name": "Python 3.9.12 ('base')",
   "language": "python",
   "name": "python3"
  },
  "language_info": {
   "codemirror_mode": {
    "name": "ipython",
    "version": 3
   },
   "file_extension": ".py",
   "mimetype": "text/x-python",
   "name": "python",
   "nbconvert_exporter": "python",
   "pygments_lexer": "ipython3",
   "version": "3.9.12"
  },
  "orig_nbformat": 4,
  "vscode": {
   "interpreter": {
    "hash": "72dff520818572b45c401a256658ee25fa99b55260abeb0336ef1b1e43b37267"
   }
  }
 },
 "nbformat": 4,
 "nbformat_minor": 2
}
